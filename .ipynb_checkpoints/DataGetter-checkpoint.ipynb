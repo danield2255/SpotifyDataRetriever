{
 "cells": [
  {
   "cell_type": "code",
   "execution_count": 107,
   "metadata": {},
   "outputs": [],
   "source": [
    "import pandas as pd\n",
    "import numpy as np\n",
    "import os\n",
    "import time\n",
    "import spotipy\n",
    "from spotipy.oauth2 import SpotifyClientCredentials\n",
    "import spotipy.util as util"
   ]
  },
  {
   "cell_type": "code",
   "execution_count": 108,
   "metadata": {},
   "outputs": [],
   "source": [
    "clientId = os.environ.get('spotifyClientId')\n",
    "clientSecret = os.environ.get('spotifyClientSecret')\n",
    "clientCredentialsManager = SpotifyClientCredentials(client_id=clientId, client_secret=clientSecret)\n",
    "sp = spotipy.Spotify(client_credentials_manager=clientCredentialsManager) #spotify object to access API\n",
    "\n",
    "spotifyUsername =os.environ.get(\"spotifyUsername\")\n",
    "scope = 'user-top-read user-read-recently-played'\n",
    "SPOTIPY_REDIRECT_URI=os.environ.get('redirect_uri')\n",
    "token = util.prompt_for_user_token(spotifyUsername, scope, clientId, clientSecret,redirect_uri=SPOTIPY_REDIRECT_URI)\n",
    "if token:\n",
    "    sp = spotipy.Spotify(auth=token)\n",
    "else:\n",
    "    print(\"Can't get token for\", username)\n"
   ]
  },
  {
   "cell_type": "markdown",
   "metadata": {},
   "source": [
    "## Get User Data"
   ]
  },
  {
   "cell_type": "code",
   "execution_count": 109,
   "metadata": {},
   "outputs": [],
   "source": [
    "def get_my_recently_played(lim = 50):\n",
    "    return sp._get('me/player/recently-played', limit=lim)\n",
    "\n",
    "def get_my_playlists(lim =50):\n",
    "    return sp.current_user_playlists(lim)\n",
    "\n",
    "def get_my_saved_albums(lim=50):\n",
    "    return sp._get('me/albums', limit=lim)\n",
    "\n",
    "def get_my_saved_tracks(lim=50):\n",
    "    return sp._get('me/tracks', limit=lim)\n",
    "\n",
    "def get_my_followed_artists(lim=50):\n",
    "    return sp._get('me/following', type='artist', limit=lim)\n",
    "\n",
    "def get_my_top_artists(lim = 50, t_range = 'long_term'): #t_range is short_term, medium_term, or long_term\n",
    "    return sp.current_user_top_artists(time_range=t_range, limit=lim)\n",
    "\n",
    "def get_my_top_tracks(lim = 50, t_range= 'long_term'):\n",
    "    return sp.current_user_top_tracks(time_range=t_range, limit=lim)"
   ]
  },
  {
   "cell_type": "markdown",
   "metadata": {},
   "source": [
    "## Get Music Track Data"
   ]
  },
  {
   "cell_type": "code",
   "execution_count": 122,
   "metadata": {},
   "outputs": [],
   "source": [
    "def get_sample_of_tracks(genre, lim = 50):\n",
    "    return sp.search('genre:\"{}\"'.format(genre), type=\"track\", limit=lim)\n",
    "    \n",
    "def get_sample_of_artists(genre, lim = 50):\n",
    "    return sp.search('genre:\"{}\"'.format(genre), type=\"track\", limit=lim)\n",
    "\n",
    "def get_audio_analysis(track_id):\n",
    "    return sp.audio_analysis(track_id)\n",
    "\n",
    "def get_audio_features(track_id):\n",
    "    #return sp._get('audio-features/?ids=' + trackid)\n",
    "    return sp.audio_features(track_id)\n",
    "\n",
    "def get_search_item(item, of_type):\n",
    "    #of_type: should be 'artist', 'album', 'track', 'playlist'\n",
    "    results = sp.search(q= of_type + ':' + item, type=of_type)\n",
    "    search_items = results[of_type+\"s\"]['items']\n",
    "    if len(search_items) > 0:\n",
    "        return search_items[0]\n",
    "    else:\n",
    "        return None\n",
    "    \n",
    "def get_artist_albums(artist_id): \n",
    "    albums = []\n",
    "    results = sp.artist_albums(artist_id, album_type='album')\n",
    "    for album in results['items']:\n",
    "        name = album['name']\n",
    "        print(name)\n",
    "        albums.append(album)\n",
    "    return albums\n",
    "\n",
    "def get_album_tracks(album_id):\n",
    "    tracks = []\n",
    "    results = sp.album_tracks(album_id)\n",
    "    for track in results['items']:\n",
    "        name = track['name']\n",
    "        print(name)\n",
    "        tracks.append(track)\n",
    "    return tracks\n",
    "    \n",
    "\n",
    "def get_related_artists(artist_ids): #can use multiple artist ids\n",
    "    related_artist_ids = set()\n",
    "    results = sp.recommendations(seed_artists = artist_ids)\n",
    "    #print(results[\"tracks\"])\n",
    "    for item in results['tracks']:\n",
    "        for artist in item[\"album\"]['artists']:\n",
    "            artist_id =artist['id']\n",
    "            print(artist['name'])#this allows duplicates, but the ids will not return duplicates\n",
    "            if artist_id not in artist_ids:\n",
    "                related_artist_ids.add(artist_id)\n",
    "    return related_artist_ids\n",
    "\n",
    "def get_artist_top_tracks(artist_id):\n",
    "    return sp.artist_top_tracks(artist_id)\n",
    "\n",
    "def get_new_releases(country = \"US\", lim=20):\n",
    "    return sp.new_releases(country, lim)"
   ]
  }
 ],
 "metadata": {
  "kernelspec": {
   "display_name": "Python 3",
   "language": "python",
   "name": "python3"
  },
  "language_info": {
   "codemirror_mode": {
    "name": "ipython",
    "version": 3
   },
   "file_extension": ".py",
   "mimetype": "text/x-python",
   "name": "python",
   "nbconvert_exporter": "python",
   "pygments_lexer": "ipython3",
   "version": "3.7.4"
  }
 },
 "nbformat": 4,
 "nbformat_minor": 4
}
