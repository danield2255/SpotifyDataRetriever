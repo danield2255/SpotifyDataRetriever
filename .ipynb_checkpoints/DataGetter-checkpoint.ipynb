{
 "cells": [
  {
   "cell_type": "code",
   "execution_count": 1,
   "metadata": {},
   "outputs": [],
   "source": [
    "import pandas as pd\n",
    "import numpy as np\n",
    "import os\n",
    "import time\n",
    "import spotipy\n",
    "from spotipy.oauth2 import SpotifyClientCredentials\n",
    "import spotipy.util as util"
   ]
  },
  {
   "cell_type": "code",
   "execution_count": 4,
   "metadata": {},
   "outputs": [
    {
     "name": "stdout",
     "output_type": "stream",
     "text": [
      "\n",
      "\n",
      "            User authentication requires interaction with your\n",
      "            web browser. Once you enter your credentials and\n",
      "            give authorization, you will be redirected to\n",
      "            a url.  Paste that url you were directed to to\n",
      "            complete the authorization.\n",
      "\n",
      "        \n",
      "Opened https://accounts.spotify.com/authorize?client_id=7cccb2739a114d25aa4e29b80f9af243&response_type=code&redirect_uri=http%3A%2F%2Flocalhost%3A8888%2Fcallback%2F&scope=user-read-recently-played+user-top-read in your browser\n",
      "\n",
      "\n"
     ]
    },
    {
     "name": "stdin",
     "output_type": "stream",
     "text": [
      "Enter the URL you were redirected to:  http://localhost:8888/callback/?code=AQAM8Px_7GTZlJkSaFHZIrvAfBkQK8FCocrZ9meu3IZswrntIxUnJCn-XvEt1RKW4NsSnOa4DtMHxpTJri6DlvSB-FWjnbv1c5fkkro24gb0Bcg-ZwHHobnhHRpR8IupUlYKZzaShpo1CpSpf0mIyf4I5Fp19Kv10neV3zZh3burlBmoN_x8bjM5JXoNS0EVhXePVdDm5DxmT-Q2l9ZHWmu9_-ZPO2XcnIe9R3W3at-5TouhofpZYhfKTDcV_dI\n"
     ]
    },
    {
     "name": "stdout",
     "output_type": "stream",
     "text": [
      "\n",
      "\n"
     ]
    }
   ],
   "source": [
    "clientId = os.environ.get('spotifyClientId')\n",
    "clientSecret = os.environ.get('spotifyClientSecret')\n",
    "clientCredentialsManager = SpotifyClientCredentials(client_id=clientId, client_secret=clientSecret)\n",
    "sp = spotipy.Spotify(client_credentials_manager=clientCredentialsManager) #spotify object to access API\n",
    "\n",
    "spotifyUsername =os.environ.get(\"spotifyUsername\")\n",
    "scope = 'user-top-read user-read-recently-played'\n",
    "SPOTIPY_REDIRECT_URI=os.environ.get('redirect_uri')\n",
    "token = util.prompt_for_user_token(spotifyUsername, scope, clientId, clientSecret,redirect_uri=SPOTIPY_REDIRECT_URI)\n",
    "if token:\n",
    "    sp = spotipy.Spotify(auth=token)\n",
    "else:\n",
    "    print(\"Can't get token for\", username)\n"
   ]
  },
  {
   "cell_type": "code",
   "execution_count": null,
   "metadata": {},
   "outputs": [],
   "source": []
  }
 ],
 "metadata": {
  "kernelspec": {
   "display_name": "Python 3",
   "language": "python",
   "name": "python3"
  },
  "language_info": {
   "codemirror_mode": {
    "name": "ipython",
    "version": 3
   },
   "file_extension": ".py",
   "mimetype": "text/x-python",
   "name": "python",
   "nbconvert_exporter": "python",
   "pygments_lexer": "ipython3",
   "version": "3.7.4"
  }
 },
 "nbformat": 4,
 "nbformat_minor": 4
}
