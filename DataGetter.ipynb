{
 "cells": [
  {
   "cell_type": "markdown",
   "metadata": {},
   "source": [
    "## Link to a Google Drive where data will be held"
   ]
  },
  {
   "cell_type": "markdown",
   "metadata": {},
   "source": [
    "First must attain credentials to access google drive. "
   ]
  },
  {
   "cell_type": "code",
   "execution_count": 63,
   "metadata": {},
   "outputs": [],
   "source": [
    "from pydrive.auth import GoogleAuth\n",
    "from pydrive.drive import GoogleDrive\n",
    "from oauth2client.client import GoogleCredentials\n",
    "import pandas as pd\n",
    "import numpy as np\n",
    "import os\n",
    "import time\n",
    "import spotipy\n",
    "from spotipy.oauth2 import SpotifyClientCredentials\n",
    "import spotipy.util as util"
   ]
  },
  {
   "cell_type": "code",
   "execution_count": 64,
   "metadata": {},
   "outputs": [
    {
     "name": "stdout",
     "output_type": "stream",
     "text": [
      "Your browser has been opened to visit:\n",
      "\n",
      "    https://accounts.google.com/o/oauth2/auth?client_id=634826925860-6p7atcthpng7p74qts4q8dceissp6m20.apps.googleusercontent.com&redirect_uri=http%3A%2F%2Flocalhost%3A8080%2F&scope=https%3A%2F%2Fwww.googleapis.com%2Fauth%2Fdrive&access_type=offline&response_type=code\n",
      "\n",
      "Authentication successful.\n"
     ]
    }
   ],
   "source": [
    "gauth = GoogleAuth()\n",
    "gauth.LocalWebserverAuth()\n",
    "\n",
    "drive = GoogleDrive(gauth)\n"
   ]
  },
  {
   "cell_type": "code",
   "execution_count": 65,
   "metadata": {},
   "outputs": [
    {
     "name": "stdout",
     "output_type": "stream",
     "text": [
      "title: mySpotifyListening.csv, id: 1BP2mtfRbW4XihfYehfIBJQEeLy9ouOtD\n"
     ]
    }
   ],
   "source": [
    "folder = \"SpotifyScrapedData\"\n",
    "folder_present = False\n",
    "file_list = drive.ListFile({'q': \"'root' in parents and trashed=false\"}).GetList()\n",
    "for file1 in file_list:\n",
    "    if file1['title'] == folder:\n",
    "        folder_present = True\n",
    "        id = file1['id']\n",
    "        \n",
    "if not folder_present:\n",
    "    file1 = drive.CreateFile({'title': folder, \n",
    "    \"mimeType\": \"application/vnd.google-apps.folder\"})\n",
    "    file1.Upload()\n",
    "    id = file1['id']\n",
    "    \n",
    "    \n",
    "folder_file_list = drive.ListFile({'q': \"'{0}' in parents and trashed=false\".format(id)}).GetList()\n",
    "for file1 in folder_file_list:\n",
    "  print('title: %s, id: %s' % (file1['title'], file1['id']))\n",
    "title = \"mySpotifyListening.csv\"\n",
    "file_present = False\n",
    "for file2 in folder_file_list:\n",
    "    if file2[\"title\"] == title:\n",
    "        file_present = True\n",
    "        id = file1['id']\n",
    "\n",
    "if not file_present: \n",
    "    file1 = drive.CreateFile({'title': title, \n",
    "                              \"parents\": [{\"id\": id}], \n",
    "    \"mimeType\": \"csv\"})\n",
    "    file1.Upload()"
   ]
  },
  {
   "cell_type": "code",
   "execution_count": null,
   "metadata": {},
   "outputs": [],
   "source": [
    "clientId = os.environ.get('spotifyClientId')\n",
    "clientSecret = os.environ.get('spotifyClientSecret')\n",
    "clientCredentialsManager = SpotifyClientCredentials(client_id=clientId, client_secret=clientSecret)\n",
    "sp = spotipy.Spotify(client_credentials_manager=clientCredentialsManager) #spotify object to access API\n",
    "\n",
    "spotifyUsername =os.environ.get(\"spotifyUsername\")\n",
    "scope = 'user-top-read user-read-recently-played'\n",
    "SPOTIPY_REDIRECT_URI=os.environ.get('redirect_uri')\n",
    "token = util.prompt_for_user_token(spotifyUsername, scope, clientId, clientSecret,redirect_uri=SPOTIPY_REDIRECT_URI)\n",
    "if token:\n",
    "    sp = spotipy.Spotify(auth=token)\n",
    "else:\n",
    "    print(\"Can't get token for\", username)\n"
   ]
  }
 ],
 "metadata": {
  "kernelspec": {
   "display_name": "Python 3",
   "language": "python",
   "name": "python3"
  },
  "language_info": {
   "codemirror_mode": {
    "name": "ipython",
    "version": 3
   },
   "file_extension": ".py",
   "mimetype": "text/x-python",
   "name": "python",
   "nbconvert_exporter": "python",
   "pygments_lexer": "ipython3",
   "version": "3.7.4"
  }
 },
 "nbformat": 4,
 "nbformat_minor": 4
}
